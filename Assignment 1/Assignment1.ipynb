import pandas as pd 
import pylab
from IPython.lib.pretty import pprint
from pandas import *
from pylab import *

print 'David Terrell\nSemantic Web Programming\nAssighnment 1'
print '----------------------------------------------------------------------------------------'
# read in data
data = read_csv('datagovdatasetsviewmetrics.csv')

#print out head of data
data.head()


#Aggregating data by organizations
#Summing up all of the Views per month for each organization
#Finding the Top 10 organizations based on Views and ordering from largest to smallest
organizations = data.groupby('Organization Name')['Views per Month'].sum().order()
top10 = DataFrame(organizations.tail(10)[::-1])

#Pretty printing data 
print '                     Top Ten Organizations in Terms of Total Views                                     '
print '----------------------------------------------------------------------------------------'
print '\n- Greatest to Least -                                                       - Total -'
pprint(top10)

#Creating Bar Chart with Top 10 organizations 
barChart = top10.plot(kind='bar',title='Top Ten Organizations', width=.4)
barChart.set_ylabel('Number of Views')
barChart.legend(['Total', 'Number of Views'],loc=9,ncol=4)
plt.show()
barChart.plot